{
 "cells": [
  {
   "cell_type": "code",
   "execution_count": 7,
   "metadata": {},
   "outputs": [],
   "source": [
    "#PART A: \n",
    "\n",
    "# Import all neccessary Library, and set variables for shortscuts. \n",
    "import numpy as np\n",
    "import pandas as pd\n",
    "from sklearn.neighbors import KNeighborsClassifier\n",
    "from sklearn.tree import DecisionTreeClassifier\n",
    "from sklearn.model_selection import train_test_split\n",
    "from sklearn.metrics import accuracy_score\n",
    "from sklearn import metrics\n",
    "from sklearn.metrics import roc_curve, roc_auc_score\n",
    "from matplotlib import pyplot as plt\n",
    "from sklearn.linear_model import LogisticRegression\n",
    "from sklearn.model_selection import cross_val_predict\n",
    "from sklearn.linear_model import LogisticRegression\n",
    "from sklearn.utils import resample\n",
    "from sklearn.ensemble import AdaBoostClassifier\n",
    "from xgboost import XGBClassifier\n",
    "from sklearn.ensemble import RandomForestClassifier\n",
    "import matplotlib.pyplot as plt\n",
    "\n",
    "# creating and empty DataFrame:\n",
    "df = pd.DataFrame()\n",
    "\n",
    "#reading data set \"Cancer\", storing it to Pandas DataFrame. \n",
    "df = pd.read_csv('/Users/christophercarlson/Desktop/DataScience/HW1/Cancer.csv')\n",
    "\n",
    "#checking if file was read in correctly from local machine. \n",
    "#print(df)"
   ]
  },
  {
   "cell_type": "code",
   "execution_count": 8,
   "metadata": {},
   "outputs": [],
   "source": [
    "# PART B: \n",
    "\n",
    "# Creating list of dataset features.\n",
    "feature_cols = ['Clump_Thickness','Uniformity_of_Cell_Size','Uniformity_of_Cell_Shape','Marginal_Adhesion',\n",
    "                'Single_Epithelial_Cell_Size','Bare_Nuclei','Bland_Chromatin','Normal_Nucleoli','Mitoses']\n",
    "\n",
    "# Initialize variable \"X\" to the features\n",
    "X = df[feature_cols] \n",
    "\n",
    "# Initialize \"y\" to the targert.\n",
    "y = df['Malignant_Cancer']\n",
    "\n",
    "# Splitting up training and testing sets. \n",
    "X_train, X_test, y_train, y_test = train_test_split(X, y, test_size=0.3, random_state=2)\n",
    "\n"
   ]
  },
  {
   "cell_type": "code",
   "execution_count": 9,
   "metadata": {},
   "outputs": [
    {
     "name": "stdout",
     "output_type": "stream",
     "text": [
      "Accuracy: 0.8666666666666667\n",
      "AUC: 0.8697478991596639\n"
     ]
    }
   ],
   "source": [
    "# PART C:\n",
    "\n",
    "#TRAINING ONLY ON THE TRAINING SET. \n",
    "\n",
    "# \"my_decisiontree\" is instantiated as an \"object\" of \n",
    "# DecisionTreeClassifier \"class\". \n",
    "\n",
    "my_decisiontree = DecisionTreeClassifier(random_state=2)\n",
    "\n",
    "# We can use the method \"fit\" of the objects \"my_decisiontree\"\n",
    "# along with training dataset and labels to train the model.\n",
    "my_decisiontree.fit(X, y)\n",
    "my_decisiontree.fit(X_train, y_train)\n",
    "\n",
    "# Testing on the testing set:\n",
    "\n",
    "y_predict = my_decisiontree.predict(X_test)\n",
    "\n",
    "# Print Accuracy: \n",
    "\n",
    "accuracy = accuracy_score(y_test, y_predict)\n",
    "print(\"{}{}\".format(\"Accuracy: \", accuracy))\n",
    "\n",
    "# Creating the area under curve(AUC):\n",
    "\n",
    "# Predicting the Binary Label:\n",
    "y_predict = my_decisiontree.predict(X_test)\n",
    "\n",
    "# Estimating the probability (likelihood) of Each Label: \n",
    "y_predict_prob_lr = my_decisiontree.predict_proba(X_test)\n",
    "fpr, tpr, thresholds = metrics.roc_curve(y_test, y_predict_prob_lr[:,1], pos_label=1)\n",
    "\n",
    "DecisionTreeAUC = metrics.auc(fpr, tpr)\n",
    "print(\"AUC:\" , DecisionTreeAUC )\n"
   ]
  },
  {
   "cell_type": "code",
   "execution_count": 10,
   "metadata": {},
   "outputs": [
    {
     "name": "stdout",
     "output_type": "stream",
     "text": [
      "Accuracy:  0.9111111111111111\n",
      "AUC: 0.917016806722689\n"
     ]
    },
    {
     "data": {
      "image/png": "[encoded data removed]",
      "text/plain": [
       "<Figure size 432x288 with 1 Axes>"
      ]
     },
     "metadata": {},
     "output_type": "display_data"
    }
   ],
   "source": [
    "# PART D:\n",
    "\n",
    "#BAGGING with 29 decision tree clasifiers.\n",
    "\n",
    "bootstrap_size = (int)(0.8 * X_train.shape[0])\n",
    "\n",
    "yPredict=[]\n",
    "\n",
    "for i in range(29):\n",
    "    X_trainResample, y_trainResample = resample(X_train, y_train, n_samples = bootstrap_size , random_state=i, replace = True)\n",
    "    my_decisiontree = DecisionTreeClassifier(random_state=2)\n",
    "    my_decisiontree.fit(X_trainResample, y_trainResample)\n",
    "    y_predict_dt = my_decisiontree.predict(X_test)\n",
    "    yPredict.append(y_predict_dt)\n",
    "\n",
    "#print(yPredict)\n",
    "    \n",
    "NewYPredict = []\n",
    "\n",
    "# VOTING:\n",
    "\n",
    "for x in range(len(yPredict[0])):\n",
    "    sum=0\n",
    "   \n",
    "    for y in range(len(yPredict)):\n",
    "        sum = sum + yPredict[y][x]\n",
    "    \n",
    "    if sum > 14:\n",
    "        NewYPredict.append(1)\n",
    "    else:\n",
    "        NewYPredict.append(0)\n",
    "\n",
    "#print(NewYPredict)\n",
    "\n",
    "# NEW ACCURACY SCORE\n",
    "\n",
    "score_dt = accuracy_score(y_test, NewYPredict)\n",
    "print(\"Accuracy: \",score_dt)\n",
    "\n",
    "# AUC:\n",
    "# Creating the area under curve(AUC):\n",
    "\n",
    "# Predicting the Binary Label:\n",
    "y_predict = my_decisiontree.predict(X_test)\n",
    "\n",
    "# Estimating the probability (likelihood) of Each Label: \n",
    "y_predict_prob_lr = my_decisiontree.predict_proba(X_test)\n",
    "fpr, tpr, thresholds = metrics.roc_curve(y_test, y_predict_prob_lr[:,1], pos_label=1)\n",
    "\n",
    "BaggingDecisionTreeAUC = metrics.auc(fpr, tpr)\n",
    "print(\"AUC:\" , BaggingDecisionTreeAUC)\n",
    "\n",
    "\n",
    "\n",
    "# The following line will tell Jupyter Notebook to keep the figures inside the explorer page \n",
    "# rather than openng a new figure window:\n",
    "%matplotlib inline\n",
    "\n",
    "plt.figure()\n",
    "\n",
    "# Roc Curve:\n",
    "plt.plot(fpr, tpr, color='red', lw=2, label='ROC Curve (area = %0.2f)' % BaggingDecisionTreeAUC)\n",
    "\n",
    "# Random Guess line:\n",
    "plt.plot([0, 1], [0, 1], color='blue', lw=1, linestyle='--')\n",
    "\n",
    "# Defining The Range of X-Axis and Y-Axis:\n",
    "plt.xlim([-0.005, 1.005])\n",
    "plt.ylim([0.0, 1.01])\n",
    "\n",
    "# Labels, Title, Legend:\n",
    "plt.xlabel('False Positive Rate')\n",
    "plt.ylabel('True Positive Rate')\n",
    "plt.title('Receiver operating characteristic')\n",
    "plt.legend(loc=\"lower right\")\n",
    "\n",
    "plt.show()\n"
   ]
  },
  {
   "cell_type": "code",
   "execution_count": 11,
   "metadata": {},
   "outputs": [
    {
     "name": "stdout",
     "output_type": "stream",
     "text": [
      "Accuracy: 0.9555555555555556\n",
      "AUC: 0.9653361344537815\n"
     ]
    }
   ],
   "source": [
    "# PART E:\n",
    "\n",
    "# Creating list of dataset features.\n",
    "feature_cols = ['Clump_Thickness','Uniformity_of_Cell_Size','Uniformity_of_Cell_Shape','Marginal_Adhesion',\n",
    "                'Single_Epithelial_Cell_Size','Bare_Nuclei','Bland_Chromatin','Normal_Nucleoli','Mitoses']\n",
    "\n",
    "# Initialize variable \"X\" to the features\n",
    "X = df[feature_cols] \n",
    "\n",
    "# Initialize \"y\" to the targert.\n",
    "y = df['Malignant_Cancer']\n",
    "\n",
    "# Splitting up training and testing sets. \n",
    "X_train, X_test, y_train, y_test = train_test_split(X, y, test_size=0.3, random_state=2)\n",
    "\n",
    "# Creating instance of a AdaBoost object classfier. \n",
    "my_AdaBoost = AdaBoostClassifier(n_estimators = 29,random_state=2)\n",
    "\n",
    "# We can use the method \"fit\" of the objects \"my_decisiontree\"\n",
    "# along with training dataset and labels to train the model.\n",
    "my_AdaBoost.fit(X, y)\n",
    "my_AdaBoost.fit(X_train, y_train)\n",
    "\n",
    "# Testing on the testing set:\n",
    "\n",
    "y_predict = my_AdaBoost.predict(X_test)\n",
    "\n",
    "# Print Accuracy: \n",
    "\n",
    "accuracy = accuracy_score(y_test, y_predict)\n",
    "print(\"{}{}\".format(\"Accuracy: \", accuracy))\n",
    "\n",
    "# Creating the area under curve(AUC):\n",
    "\n",
    "# Predicting the Binary Label:\n",
    "y_predict = my_AdaBoost.predict(X_test)\n",
    "\n",
    "# Estimating the probability (likelihood) of Each Label: \n",
    "y_predict_prob_lr = my_AdaBoost.predict_proba(X_test)\n",
    "fpr, tpr, thresholds = metrics.roc_curve(y_test, y_predict_prob_lr[:,1], pos_label=1)\n",
    "\n",
    "AdaBoostAUC = metrics.auc(fpr, tpr)\n",
    "print(\"AUC:\" , AdaBoostAUC)"
   ]
  },
  {
   "cell_type": "code",
   "execution_count": 12,
   "metadata": {},
   "outputs": [
    {
     "name": "stdout",
     "output_type": "stream",
     "text": [
      "Accuracy: 0.9555555555555556\n",
      "AUC: 0.9621848739495799\n"
     ]
    },
    {
     "name": "stderr",
     "output_type": "stream",
     "text": [
      "/Users/christophercarlson/anaconda3/lib/python3.6/site-packages/sklearn/preprocessing/label.py:151: DeprecationWarning: The truth value of an empty array is ambiguous. Returning False, but in future this will result in an error. Use `array.size > 0` to check that an array is not empty.\n",
      "  if diff:\n",
      "/Users/christophercarlson/anaconda3/lib/python3.6/site-packages/sklearn/preprocessing/label.py:151: DeprecationWarning: The truth value of an empty array is ambiguous. Returning False, but in future this will result in an error. Use `array.size > 0` to check that an array is not empty.\n",
      "  if diff:\n"
     ]
    }
   ],
   "source": [
    "# PART F:\n",
    "\n",
    "# Creating list of dataset features.\n",
    "feature_cols = ['Clump_Thickness','Uniformity_of_Cell_Size','Uniformity_of_Cell_Shape','Marginal_Adhesion',\n",
    "                'Single_Epithelial_Cell_Size','Bare_Nuclei','Bland_Chromatin','Normal_Nucleoli','Mitoses']\n",
    "\n",
    "# Initialize variable \"X\" to the features\n",
    "X = df[feature_cols] \n",
    "\n",
    "# Initialize \"y\" to the targert.\n",
    "y = df['Malignant_Cancer']\n",
    "\n",
    "# Splitting up training and testing sets. \n",
    "X_train, X_test, y_train, y_test = train_test_split(X, y, test_size=0.3, random_state=2)\n",
    "\n",
    "# Creating instance of a XGboost object classfier. \n",
    "my_XGBoost = XGBClassifier(n_estimators = 29,random_state=2)\n",
    "\n",
    "# We can use the method \"fit\" of the objects \"my_decisiontree\"\n",
    "# along with training dataset and labels to train the model.\n",
    "my_XGBoost.fit(X, y)\n",
    "my_XGBoost.fit(X_train, y_train)\n",
    "\n",
    "# Testing on the testing set:\n",
    "\n",
    "y_predict = my_XGBoost.predict(X_test)\n",
    "\n",
    "# Print Accuracy: \n",
    "\n",
    "accuracy = accuracy_score(y_test, y_predict)\n",
    "print(\"{}{}\".format(\"Accuracy: \", accuracy))\n",
    "\n",
    "# Creating the area under curve(AUC):\n",
    "\n",
    "# Predicting the Binary Label:\n",
    "y_predict = my_XGBoost.predict(X_test)\n",
    "\n",
    "# Estimating the probability (likelihood) of Each Label: \n",
    "y_predict_prob_lr = my_XGBoost.predict_proba(X_test)\n",
    "fpr, tpr, thresholds = metrics.roc_curve(y_test, y_predict_prob_lr[:,1], pos_label=1)\n",
    "\n",
    "XGBoostAUC = metrics.auc(fpr, tpr)\n",
    "print(\"AUC:\" , XGBoostAUC)"
   ]
  },
  {
   "cell_type": "code",
   "execution_count": 13,
   "metadata": {},
   "outputs": [
    {
     "name": "stdout",
     "output_type": "stream",
     "text": [
      "Accuracy: 0.9555555555555556\n",
      "AUC: 0.9516806722689075\n"
     ]
    }
   ],
   "source": [
    "# PART G:\n",
    "\n",
    "# Creating list of dataset features.\n",
    "feature_cols = ['Clump_Thickness','Uniformity_of_Cell_Size','Uniformity_of_Cell_Shape','Marginal_Adhesion',\n",
    "                'Single_Epithelial_Cell_Size','Bare_Nuclei','Bland_Chromatin','Normal_Nucleoli','Mitoses']\n",
    "\n",
    "# Initialize variable \"X\" to the features\n",
    "X = df[feature_cols] \n",
    "\n",
    "# Initialize \"y\" to the targert.\n",
    "y = df['Malignant_Cancer']\n",
    "\n",
    "# Splitting up training and testing sets. \n",
    "X_train, X_test, y_train, y_test = train_test_split(X, y, test_size=0.3, random_state=2)\n",
    "\n",
    "# Creating instance of a RandomForest object classfier. \n",
    "my_RandomForest = RandomForestClassifier(n_estimators = 29, bootstrap = True, random_state=2)\n",
    "\n",
    "# We can use the method \"fit\" of the objects \"my_decisiontree\"\n",
    "# along with training dataset and labels to train the model.\n",
    "my_RandomForest.fit(X, y)\n",
    "my_RandomForest.fit(X_train, y_train)\n",
    "\n",
    "# Testing on the testing set:\n",
    "\n",
    "y_predict = my_RandomForest.predict(X_test)\n",
    "\n",
    "# Print Accuracy: \n",
    "\n",
    "accuracy = accuracy_score(y_test, y_predict)\n",
    "print(\"{}{}\".format(\"Accuracy: \", accuracy))\n",
    "\n",
    "# Creating the area under curve(AUC):\n",
    "\n",
    "# Predicting the Binary Label:\n",
    "y_predict = my_RandomForest.predict(X_test)\n",
    "\n",
    "# Estimating the probability (likelihood) of Each Label: \n",
    "y_predict_prob_lr = my_RandomForest.predict_proba(X_test)\n",
    "fpr, tpr, thresholds = metrics.roc_curve(y_test, y_predict_prob_lr[:,1], pos_label=1)\n",
    "\n",
    "RandomForestAUC = metrics.auc(fpr, tpr)\n",
    "print(\"AUC:\" , RandomForestAUC)\n"
   ]
  },
  {
   "cell_type": "code",
   "execution_count": 15,
   "metadata": {},
   "outputs": [
    {
     "data": {
      "image/png": "[encoded data removed]",
      "text/plain": [
       "<Figure size 432x288 with 1 Axes>"
      ]
     },
     "metadata": {},
     "output_type": "display_data"
    },
    {
     "name": "stdout",
     "output_type": "stream",
     "text": [
      "highest AUC the ADAboost Algorithm.\n",
      "highest Accuracy was the randomForest and xboost Algorithm both sitting at approximately  0.9555555555555556 \n"
     ]
    }
   ],
   "source": [
    "# PART H:\n",
    "\n",
    "# The following line will tell Jupyter Notebook to keep the figures inside the explorer page \n",
    "# rather than openng a new figure window:\n",
    "%matplotlib inline\n",
    "\n",
    "plt.figure()\n",
    "\n",
    "# Roc Curve:\n",
    "plt.plot(fpr, tpr, color='red', lw=2, label='ROC Curve (area = %0.2f)' % DecisionTreeAUC)\n",
    "plt.plot(fpr, tpr, color='green', lw=2, label='ROC Curve (area = %0.2f)' % BaggingDecisionTreeAUC)\n",
    "plt.plot(fpr, tpr, color='blue', lw=2, label='ROC Curve (area = %0.2f)' % AdaBoostAUC)\n",
    "plt.plot(fpr, tpr, color='purple', lw=2, label='ROC Curve (area = %0.2f)' % XGBoostAUC)\n",
    "plt.plot(fpr, tpr, color='orange', lw=2, label='ROC Curve (area = %0.2f)' % RandomForestAUC)\n",
    "\n",
    "# Random Guess line:\n",
    "plt.plot([0, 1], [0, 1], color='blue', lw=1, linestyle='--')\n",
    "\n",
    "# Defining The Range of X-Axis and Y-Axis:\n",
    "plt.xlim([-0.005, 1.005])\n",
    "plt.ylim([0.0, 1.01])\n",
    "\n",
    "# Labels, Title, Legend:\n",
    "plt.xlabel('False Positive Rate')\n",
    "plt.ylabel('True Positive Rate')\n",
    "plt.title('Receiver operating characteristic')\n",
    "plt.legend(loc=\"lower right\")\n",
    "\n",
    "plt.show()\n",
    "\n",
    "print(\"highest AUC the ADAboost Algorithm.\")\n",
    "print(\"highest Accuracy was the randomForest and xboost Algorithm both sitting at approximately  0.9555555555555556% \")"
   ]
  },
  {
   "cell_type": "code",
   "execution_count": null,
   "metadata": {},
   "outputs": [],
   "source": []
  },
  {
   "cell_type": "code",
   "execution_count": null,
   "metadata": {},
   "outputs": [],
   "source": []
  }
 ],
 "metadata": {
  "kernelspec": {
   "display_name": "Python 3",
   "language": "python",
   "name": "python3"
  },
  "language_info": {
   "codemirror_mode": {
    "name": "ipython",
    "version": 3
   },
   "file_extension": ".py",
   "mimetype": "text/x-python",
   "name": "python",
   "nbconvert_exporter": "python",
   "pygments_lexer": "ipython3",
   "version": "3.6.5"
  }
 },
 "nbformat": 4,
 "nbformat_minor": 2
}
